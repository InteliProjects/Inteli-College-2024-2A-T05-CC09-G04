{
  "cells": [
    {
      "cell_type": "markdown",
      "source": [
        "**Montagem do Google Drive:**\n",
        "   - O comando `drive.mount('/content/drive')` é utilizado para montar o Google Drive no Google Colab, permitindo acessar e salvar arquivos diretamente no Drive.\n",
        "   - Após a execução, o Google Drive foi montado com sucesso no diretório `/content/drive`."
      ],
      "metadata": {
        "id": "yWCwAhwLW4Ud"
      },
      "id": "yWCwAhwLW4Ud"
    },
    {
      "cell_type": "code",
      "source": [
        "from google.colab import drive\n",
        "drive.mount('/content/drive')"
      ],
      "metadata": {
        "colab": {
          "base_uri": "https://localhost:8080/"
        },
        "id": "naEU4pv9Jqr6",
        "outputId": "c97ea63c-ad2f-4d8d-f83c-15744b6f82e2"
      },
      "id": "naEU4pv9Jqr6",
      "execution_count": 25,
      "outputs": [
        {
          "output_type": "stream",
          "name": "stdout",
          "text": [
            "Mounted at /content/drive\n"
          ]
        }
      ]
    },
    {
      "cell_type": "markdown",
      "source": [
        "**Instalação do Tesseract OCR:**\n",
        "   - O comando `!sudo apt install tesseract-ocr` instala o Tesseract OCR, um mecanismo de reconhecimento óptico de caracteres (OCR) de código aberto.\n",
        "   - A instalação inclui pacotes adicionais necessários:\n",
        "     - `tesseract-ocr-eng`: Suporte para a língua inglesa.\n",
        "     - `tesseract-ocr-osd`: Suporte para detecção de orientação do script.\n",
        "   - Após a instalação, o Tesseract está configurado e pronto para ser utilizado no ambiente Colab."
      ],
      "metadata": {
        "id": "3LjQFMjkW6Ou"
      },
      "id": "3LjQFMjkW6Ou"
    },
    {
      "cell_type": "code",
      "execution_count": 26,
      "id": "9ebc6e3d-1564-444d-9df0-73ad0ba272d3",
      "metadata": {
        "colab": {
          "base_uri": "https://localhost:8080/"
        },
        "id": "9ebc6e3d-1564-444d-9df0-73ad0ba272d3",
        "outputId": "8ebd32ff-ccbc-447c-e677-00c42adbda21"
      },
      "outputs": [
        {
          "output_type": "stream",
          "name": "stdout",
          "text": [
            "Reading package lists... Done\n",
            "Building dependency tree... Done\n",
            "Reading state information... Done\n",
            "The following additional packages will be installed:\n",
            "  tesseract-ocr-eng tesseract-ocr-osd\n",
            "The following NEW packages will be installed:\n",
            "  tesseract-ocr tesseract-ocr-eng tesseract-ocr-osd\n",
            "0 upgraded, 3 newly installed, 0 to remove and 49 not upgraded.\n",
            "Need to get 4,816 kB of archives.\n",
            "After this operation, 15.6 MB of additional disk space will be used.\n",
            "Get:1 http://archive.ubuntu.com/ubuntu jammy/universe amd64 tesseract-ocr-eng all 1:4.00~git30-7274cfa-1.1 [1,591 kB]\n",
            "Get:2 http://archive.ubuntu.com/ubuntu jammy/universe amd64 tesseract-ocr-osd all 1:4.00~git30-7274cfa-1.1 [2,990 kB]\n",
            "Get:3 http://archive.ubuntu.com/ubuntu jammy/universe amd64 tesseract-ocr amd64 4.1.1-2.1build1 [236 kB]\n",
            "Fetched 4,816 kB in 0s (14.5 MB/s)\n",
            "debconf: unable to initialize frontend: Dialog\n",
            "debconf: (No usable dialog-like program is installed, so the dialog based frontend cannot be used. at /usr/share/perl5/Debconf/FrontEnd/Dialog.pm line 78, <> line 3.)\n",
            "debconf: falling back to frontend: Readline\n",
            "debconf: unable to initialize frontend: Readline\n",
            "debconf: (This frontend requires a controlling tty.)\n",
            "debconf: falling back to frontend: Teletype\n",
            "dpkg-preconfigure: unable to re-open stdin: \n",
            "Selecting previously unselected package tesseract-ocr-eng.\n",
            "(Reading database ... 123605 files and directories currently installed.)\n",
            "Preparing to unpack .../tesseract-ocr-eng_1%3a4.00~git30-7274cfa-1.1_all.deb ...\n",
            "Unpacking tesseract-ocr-eng (1:4.00~git30-7274cfa-1.1) ...\n",
            "Selecting previously unselected package tesseract-ocr-osd.\n",
            "Preparing to unpack .../tesseract-ocr-osd_1%3a4.00~git30-7274cfa-1.1_all.deb ...\n",
            "Unpacking tesseract-ocr-osd (1:4.00~git30-7274cfa-1.1) ...\n",
            "Selecting previously unselected package tesseract-ocr.\n",
            "Preparing to unpack .../tesseract-ocr_4.1.1-2.1build1_amd64.deb ...\n",
            "Unpacking tesseract-ocr (4.1.1-2.1build1) ...\n",
            "Setting up tesseract-ocr-eng (1:4.00~git30-7274cfa-1.1) ...\n",
            "Setting up tesseract-ocr-osd (1:4.00~git30-7274cfa-1.1) ...\n",
            "Setting up tesseract-ocr (4.1.1-2.1build1) ...\n",
            "Processing triggers for man-db (2.10.2-1) ...\n"
          ]
        }
      ],
      "source": [
        "!sudo apt install tesseract-ocr"
      ]
    },
    {
      "cell_type": "markdown",
      "source": [
        "**Instalação do Pytesseract:**\n",
        "   - O comando `!pip install pytesseract` é utilizado para instalar a biblioteca `pytesseract`, que serve como um wrapper do Tesseract OCR para facilitar o uso em Python.\n",
        "   - Como o `pytesseract` já estava instalado no ambiente, nenhuma nova instalação foi realizada."
      ],
      "metadata": {
        "id": "RacPa7aAXNUw"
      },
      "id": "RacPa7aAXNUw"
    },
    {
      "cell_type": "code",
      "source": [
        "!pip install pytesseract"
      ],
      "metadata": {
        "colab": {
          "base_uri": "https://localhost:8080/"
        },
        "id": "CICUAGLVKvpR",
        "outputId": "bf5b4fbd-4a0a-4f16-9483-62fc63330e11"
      },
      "id": "CICUAGLVKvpR",
      "execution_count": 27,
      "outputs": [
        {
          "output_type": "stream",
          "name": "stdout",
          "text": [
            "Requirement already satisfied: pytesseract in /usr/local/lib/python3.10/dist-packages (0.3.13)\n",
            "Requirement already satisfied: packaging>=21.3 in /usr/local/lib/python3.10/dist-packages (from pytesseract) (24.1)\n",
            "Requirement already satisfied: Pillow>=8.0.0 in /usr/local/lib/python3.10/dist-packages (from pytesseract) (10.4.0)\n"
          ]
        }
      ]
    },
    {
      "cell_type": "markdown",
      "source": [
        "**Importação de Bibliotecas:**\n",
        "   - As bibliotecas importadas incluem:\n",
        "     - `pickle`: Utilizada para desserializar (carregar) os objetos salvos em arquivos `.pkl`.\n",
        "     - `matplotlib.pyplot`: Biblioteca para visualização de gráficos e imagens.\n",
        "     - `numpy`: Biblioteca para manipulação eficiente de arrays e operações numéricas.\n",
        "     - `cv2`: OpenCV, utilizado para operações relacionadas a imagens.\n",
        "\n",
        "**Desserializando o Objeto Pickle:**\n",
        "   - A função `open` abre o arquivo `imagens_pickle (1).pkl` em modo leitura binária (`'rb'`).\n",
        "   - O método `pickle.load(file)` desserializa o conteúdo do arquivo, carregando-o como um objeto Python. Neste caso, ele carrega um dicionário que contém arrays numéricos associados à chave `'imagem_original'`.\n",
        "\n",
        "**Exibição dos Dados Desserializados:**\n",
        "   - A variável `images` agora contém os dados desserializados, que são então exibidos com `print(images)`. O conteúdo mostrado inclui uma imagem em formato de array NumPy, com valores de intensidade dos pixels (valores flutuantes entre 0 e 1, indicando escala de cor ou níveis de cinza)"
      ],
      "metadata": {
        "id": "vsZpLtDAXOEQ"
      },
      "id": "vsZpLtDAXOEQ"
    },
    {
      "cell_type": "code",
      "execution_count": 28,
      "id": "ff303938-1a83-439d-87d6-186dd8440e80",
      "metadata": {
        "colab": {
          "base_uri": "https://localhost:8080/"
        },
        "id": "ff303938-1a83-439d-87d6-186dd8440e80",
        "outputId": "028c7543-6ac4-41bc-f927-f1eb8ee4cd6e"
      },
      "outputs": [
        {
          "output_type": "stream",
          "name": "stdout",
          "text": [
            "{'imagem_original': array([[[0.39215686, 0.39215686, 0.39215686],\n",
            "        [0.39607843, 0.39607843, 0.39607843],\n",
            "        [0.39215686, 0.39215686, 0.39215686],\n",
            "        ...,\n",
            "        [0.31764706, 0.31764706, 0.31764706],\n",
            "        [0.31372549, 0.31372549, 0.31372549],\n",
            "        [0.30980392, 0.30980392, 0.30980392]],\n",
            "\n",
            "       [[0.39607843, 0.39607843, 0.39607843],\n",
            "        [0.39215686, 0.39215686, 0.39215686],\n",
            "        [0.39215686, 0.39215686, 0.39215686],\n",
            "        ...,\n",
            "        [0.30588235, 0.30588235, 0.30588235],\n",
            "        [0.30196078, 0.30196078, 0.30196078],\n",
            "        [0.29803922, 0.29803922, 0.29803922]],\n",
            "\n",
            "       [[0.37647059, 0.37647059, 0.37647059],\n",
            "        [0.38039216, 0.38039216, 0.38039216],\n",
            "        [0.38039216, 0.38039216, 0.38039216],\n",
            "        ...,\n",
            "        [0.30196078, 0.30196078, 0.30196078],\n",
            "        [0.30980392, 0.30980392, 0.30980392],\n",
            "        [0.31372549, 0.31372549, 0.31372549]],\n",
            "\n",
            "       ...,\n",
            "\n",
            "       [[0.37647059, 0.37647059, 0.37647059],\n",
            "        [0.38431373, 0.38431373, 0.38431373],\n",
            "        [0.38431373, 0.38431373, 0.38431373],\n",
            "        ...,\n",
            "        [0.16470588, 0.16470588, 0.16470588],\n",
            "        [0.16470588, 0.16470588, 0.16470588],\n",
            "        [0.16862745, 0.16862745, 0.16862745]],\n",
            "\n",
            "       [[0.36862745, 0.36862745, 0.36862745],\n",
            "        [0.37254902, 0.37254902, 0.37254902],\n",
            "        [0.37254902, 0.37254902, 0.37254902],\n",
            "        ...,\n",
            "        [0.16862745, 0.16862745, 0.16862745],\n",
            "        [0.16862745, 0.16862745, 0.16862745],\n",
            "        [0.16862745, 0.16862745, 0.16862745]],\n",
            "\n",
            "       [[0.32941176, 0.32941176, 0.32941176],\n",
            "        [0.34509804, 0.34509804, 0.34509804],\n",
            "        [0.36078431, 0.36078431, 0.36078431],\n",
            "        ...,\n",
            "        [0.16862745, 0.16862745, 0.16862745],\n",
            "        [0.16862745, 0.16862745, 0.16862745],\n",
            "        [0.16862745, 0.16862745, 0.16862745]]]), 'imagem_segmentada': array([[0, 0, 0, ..., 0, 0, 0],\n",
            "       [0, 0, 0, ..., 0, 0, 0],\n",
            "       [0, 0, 0, ..., 0, 0, 0],\n",
            "       ...,\n",
            "       [0, 0, 0, ..., 0, 0, 0],\n",
            "       [0, 0, 0, ..., 0, 0, 0],\n",
            "       [0, 0, 0, ..., 0, 0, 0]], dtype=uint8)}\n"
          ]
        }
      ],
      "source": [
        "import pickle\n",
        "import matplotlib.pyplot as plt\n",
        "import numpy as np\n",
        "import cv2\n",
        "\n",
        "# Desserializando o objeto\n",
        "with open('/content/imagens_pickle (1).pkl', 'rb') as file:\n",
        "    images = pickle.load(file)\n",
        "\n",
        "# Agora 'dados' contém o dicionário que foi salvo\n",
        "print(images)"
      ]
    },
    {
      "cell_type": "markdown",
      "source": [
        " **Separação das Imagens:**\n",
        "   - `imagem_original = images['imagem_original']`: A imagem original é recuperada do dicionário desserializado.\n",
        "   - `imagem_seg = images['imagem_segmentada']`: A imagem segmentada (gerada pelo modelo) também é extraída do dicionário.\n",
        "  "
      ],
      "metadata": {
        "id": "xyfTUEzQYJCN"
      },
      "id": "xyfTUEzQYJCN"
    },
    {
      "cell_type": "code",
      "execution_count": 29,
      "id": "6d298f72-9619-43f9-9147-237ad8db2563",
      "metadata": {
        "id": "6d298f72-9619-43f9-9147-237ad8db2563"
      },
      "outputs": [],
      "source": [
        "imagem_original= images['imagem_original']\n",
        "imagem_seg= images['imagem_segmentada']"
      ]
    },
    {
      "cell_type": "markdown",
      "source": [
        "**Conversão da Imagem Original para Escala de Cinza:**\n",
        "   - A imagem original, que está normalizada (valores entre 0 e 1), é convertida para o formato `uint8` (valores entre 0 e 255) com `astype(np.uint8)`.\n",
        "   - A função `cv2.cvtColor` é utilizada para converter a imagem de RGB para escala de cinza.\n",
        "   - `np.stack` é aplicado para garantir que a imagem tenha três canais de cor (mantendo a consistência no formato de imagens RGB)."
      ],
      "metadata": {
        "id": "VU570HFrYKu-"
      },
      "id": "VU570HFrYKu-"
    },
    {
      "cell_type": "code",
      "execution_count": 30,
      "id": "d26084e2-f0e2-4905-a145-9ed0444f66ab",
      "metadata": {
        "colab": {
          "base_uri": "https://localhost:8080/"
        },
        "id": "d26084e2-f0e2-4905-a145-9ed0444f66ab",
        "outputId": "11659df5-bc59-43b8-f77b-82dfe0cf45cb"
      },
      "outputs": [
        {
          "output_type": "stream",
          "name": "stdout",
          "text": [
            "(128, 128, 1)\n"
          ]
        }
      ],
      "source": [
        "img_original_uint8 = (imagem_original * 255).astype(np.uint8)\n",
        "img_grayscale = cv2.cvtColor(img_original_uint8, cv2.COLOR_RGB2GRAY)\n",
        "img_grayscale = np.stack((img_grayscale,) * 1, axis=-1)\n",
        "\n",
        "print(img_grayscale.shape)"
      ]
    },
    {
      "cell_type": "markdown",
      "source": [
        "**Preparação da Máscara Segmentada:**\n",
        "   - A função `np.squeeze` remove dimensões extras da máscara segmentada.\n",
        "   - `np.stack` é utilizado novamente para garantir que a máscara tenha três canais (seguindo o padrão de imagens RGB)."
      ],
      "metadata": {
        "id": "ulorclDKYN5X"
      },
      "id": "ulorclDKYN5X"
    },
    {
      "cell_type": "code",
      "execution_count": 31,
      "id": "7f142465-860f-4d93-baa8-0d6b741ac6ba",
      "metadata": {
        "colab": {
          "base_uri": "https://localhost:8080/"
        },
        "id": "7f142465-860f-4d93-baa8-0d6b741ac6ba",
        "outputId": "ad826313-32eb-48b5-a0be-49f3f64c26c2"
      },
      "outputs": [
        {
          "output_type": "stream",
          "name": "stdout",
          "text": [
            "(128, 128, 1)\n"
          ]
        }
      ],
      "source": [
        "mascara = np.squeeze(imagem_seg)\n",
        "mascara_rgb = np.stack((mascara,) * 1, axis=-1)\n",
        "print(mascara_rgb.shape)"
      ]
    },
    {
      "cell_type": "markdown",
      "source": [
        "**Visualização da Imagem Segmentada:**\n",
        "   - `plt.subplot(1, 3, 3)` define o layout de exibição para três subplots em uma única linha, mas aqui está sendo utilizada apenas uma subplot.\n",
        "   - `plt.imshow(imagem_seg, cmap='gray')` exibe a imagem segmentada em escala de cinza.\n",
        "   - A função `plt.title` define o título da imagem como \"Máscara Segmentada pelo Modelo\".\n",
        "   - `plt.axis('off')` desativa a exibição dos eixos para melhorar a visualização."
      ],
      "metadata": {
        "id": "KFuVXJW_YQZe"
      },
      "id": "KFuVXJW_YQZe"
    },
    {
      "cell_type": "code",
      "execution_count": 32,
      "id": "cb135c2b-9feb-404f-a773-24540c148340",
      "metadata": {
        "colab": {
          "base_uri": "https://localhost:8080/",
          "height": 222
        },
        "id": "cb135c2b-9feb-404f-a773-24540c148340",
        "outputId": "44f6ff63-87c3-4b00-b214-26e3383759bb"
      },
      "outputs": [
        {
          "output_type": "execute_result",
          "data": {
            "text/plain": [
              "(-0.5, 127.5, 127.5, -0.5)"
            ]
          },
          "metadata": {},
          "execution_count": 32
        },
        {
          "output_type": "display_data",
          "data": {
            "text/plain": [
              "<Figure size 640x480 with 1 Axes>"
            ],
            "image/png": "[encoded data removed]"
          },
          "metadata": {}
        }
      ],
      "source": [
        "plt.subplot(1, 3, 3)\n",
        "plt.imshow(imagem_seg, cmap='gray')\n",
        "plt.title('Máscara Segmentada pelo Modelo')\n",
        "plt.axis('off')"
      ]
    },
    {
      "cell_type": "markdown",
      "source": [
        "**Cálculo do Total de Pixels:**\n",
        "   - O comando `np.prod(imagem_seg.shape)` calcula o número total de pixels na imagem segmentada multiplicando as dimensões da imagem. Isso resulta no número de elementos no array (número de pixels).\n",
        "   - O resultado impresso é `16384`, que corresponde a uma imagem de `(128 x 128)` pixels."
      ],
      "metadata": {
        "id": "aUY_YviBY1SZ"
      },
      "id": "aUY_YviBY1SZ"
    },
    {
      "cell_type": "code",
      "source": [
        "total_pixels = np.prod(imagem_seg.shape)\n",
        "print(total_pixels)"
      ],
      "metadata": {
        "colab": {
          "base_uri": "https://localhost:8080/"
        },
        "id": "5dZ7_Np1q17c",
        "outputId": "4cd6a934-b82b-4207-eb22-b8d607ee3f58"
      },
      "id": "5dZ7_Np1q17c",
      "execution_count": 34,
      "outputs": [
        {
          "output_type": "stream",
          "name": "stdout",
          "text": [
            "16384\n"
          ]
        }
      ]
    },
    {
      "cell_type": "markdown",
      "source": [
        "**Função `not_eyes`:**\n",
        "   - Esta função recebe uma imagem e uma máscara como parâmetros.\n",
        "   - Ela cria uma cópia da imagem original (`np.copy(image)`).\n",
        "   - Em seguida, os pixels que **não** correspondem aos olhos (definidos pela máscara) são definidos como zero (preto). Isso é feito usando `mask != 0`, ou seja, onde a máscara não for zero, os pixels da imagem são mantidos, e os outros são zerados.\n",
        "   - A imagem modificada é retornada.\n"
      ],
      "metadata": {
        "id": "VBwFrm8DY34T"
      },
      "id": "VBwFrm8DY34T"
    },
    {
      "cell_type": "code",
      "source": [
        "def not_eyes(image, mask):\n",
        "    # Cria uma cópia da imagem original\n",
        "    masked_image = np.copy(image)\n",
        "    # Define os pixels como preto onde a máscara é zero\n",
        "    masked_image[mask != 0] = 0\n",
        "    return masked_image"
      ],
      "metadata": {
        "id": "j5GUb0V03Jah"
      },
      "id": "j5GUb0V03Jah",
      "execution_count": 36,
      "outputs": []
    },
    {
      "cell_type": "markdown",
      "source": [
        "**Função `only_eyes`:**\n",
        "   - Similar à função `not_eyes`, mas agora a lógica se inverte: os pixels onde a máscara for zero são definidos como preto, enquanto os demais são mantidos.\n",
        "   - Isso isola os pixels que correspondem aos olhos na imagem.\n",
        "   - A imagem modificada também é retornada.\n"
      ],
      "metadata": {
        "id": "STKnjAGQY5sl"
      },
      "id": "STKnjAGQY5sl"
    },
    {
      "cell_type": "code",
      "execution_count": 37,
      "id": "68600aaf-4f28-48b1-945c-99bb54b452a1",
      "metadata": {
        "id": "68600aaf-4f28-48b1-945c-99bb54b452a1"
      },
      "outputs": [],
      "source": [
        "def only_eyes(image, mask):\n",
        "    # Cria uma cópia da imagem original\n",
        "    masked_image = np.copy(image)\n",
        "    # Define os pixels como preto onde a máscara é zero\n",
        "    masked_image[mask == 0] = 0\n",
        "    return masked_image"
      ]
    },
    {
      "cell_type": "markdown",
      "source": [
        " **Aplicação da Função `only_eyes`:**\n",
        "   - A função `only_eyes` é chamada com `img_grayscale` (a imagem em escala de cinza) e `mascara_rgb` (a máscara RGB) como argumentos. O resultado é salvo na variável `img_olhos`, que contém a imagem onde apenas os olhos foram mantidos, e o restante foi removido (zerado)."
      ],
      "metadata": {
        "id": "_K5W9xMkY-T2"
      },
      "id": "_K5W9xMkY-T2"
    },
    {
      "cell_type": "code",
      "execution_count": 38,
      "id": "eac0e88e-3680-4351-b5a4-c298041ca8d2",
      "metadata": {
        "id": "eac0e88e-3680-4351-b5a4-c298041ca8d2"
      },
      "outputs": [],
      "source": [
        "img_olhos= only_eyes(img_grayscale, mascara_rgb)"
      ]
    },
    {
      "cell_type": "markdown",
      "source": [
        "### Visualização de Imagens com Segmentação e Temperatura\n",
        "\n",
        "**Exibição da Imagem Original:**\n",
        "   - `plt.subplot(1, 3, 3)` configura uma grade com uma linha e três colunas para subplots, e seleciona a terceira posição (mas apenas uma imagem é exibida neste exemplo).\n",
        "   - `plt.imshow(img_grayscale, cmap='gray')` exibe a imagem original em escala de cinza.\n",
        "   - O título da imagem é definido como \"Imagem original\" usando `plt.title`.\n",
        "   - `plt.show()` renderiza e exibe a imagem na tela."
      ],
      "metadata": {
        "id": "UiPOoufQZQdj"
      },
      "id": "UiPOoufQZQdj"
    },
    {
      "cell_type": "code",
      "source": [
        "plt.subplot(1, 3, 3)\n",
        "plt.imshow(img_grayscale, cmap='gray')\n",
        "plt.title('Imagem original')\n",
        "plt.show()"
      ],
      "metadata": {
        "colab": {
          "base_uri": "https://localhost:8080/",
          "height": 228
        },
        "id": "vaRKt3-MyH37",
        "outputId": "8311fa27-05cd-455d-8b3c-3f55fa8efb0f"
      },
      "id": "vaRKt3-MyH37",
      "execution_count": 39,
      "outputs": [
        {
          "output_type": "display_data",
          "data": {
            "text/plain": [
              "<Figure size 640x480 with 1 Axes>"
            ],
            "image/png": "[encoded data removed]"
          },
          "metadata": {}
        }
      ]
    },
    {
      "cell_type": "markdown",
      "source": [
        "**Exibição da Imagem Original:**\n",
        "   - `plt.subplot(1, 3, 3)` configura uma grade com uma linha e três colunas para subplots, e seleciona a terceira posição (mas apenas uma imagem é exibida neste exemplo).\n",
        "   - `plt.imshow(img_grayscale, cmap='gray')` exibe a imagem original em escala de cinza.\n",
        "   - O título da imagem é definido como \"Imagem original\" usando `plt.title`.\n",
        "   - `plt.show()` renderiza e exibe a imagem na tela."
      ],
      "metadata": {
        "id": "ekdVyh2yZS4s"
      },
      "id": "ekdVyh2yZS4s"
    },
    {
      "cell_type": "code",
      "source": [
        "plt.subplot(1, 3, 3)\n",
        "plt.imshow(mascara_rgb, cmap='gray')\n",
        "plt.title('Imagem com temperatura')\n",
        "plt.axis('off')\n"
      ],
      "metadata": {
        "colab": {
          "base_uri": "https://localhost:8080/",
          "height": 222
        },
        "id": "PXoHMJKpySOX",
        "outputId": "de9dc06f-9a30-4bf5-cb4d-94cd159127b7"
      },
      "id": "PXoHMJKpySOX",
      "execution_count": 40,
      "outputs": [
        {
          "output_type": "execute_result",
          "data": {
            "text/plain": [
              "(-0.5, 127.5, 127.5, -0.5)"
            ]
          },
          "metadata": {},
          "execution_count": 40
        },
        {
          "output_type": "display_data",
          "data": {
            "text/plain": [
              "<Figure size 640x480 with 1 Axes>"
            ],
            "image/png": "[encoded data removed]"
          },
          "metadata": {}
        }
      ]
    },
    {
      "cell_type": "markdown",
      "source": [
        " **Exibição da Imagem com Olhos Isolados:**\n",
        "   - O procedimento é o mesmo, porém agora exibindo a imagem resultante da função `only_eyes`, que isola apenas os olhos na imagem.\n",
        "   - `plt.imshow(img_olhos, cmap='gray')` exibe a imagem com os olhos destacados.\n",
        "   - O título \"Imagem com temperatura\" é repetido, mas pode ser ajustado para algo mais descritivo como \"Imagem com olhos isolados\".\n",
        "   - `plt.axis('off')` novamente remove os eixos para uma visualização limpa."
      ],
      "metadata": {
        "id": "76GxqgznZVNL"
      },
      "id": "76GxqgznZVNL"
    },
    {
      "cell_type": "code",
      "source": [
        "plt.subplot(1, 3, 3)\n",
        "plt.imshow(img_olhos, cmap='gray')\n",
        "plt.title('Imagem com temperatura')\n",
        "plt.axis('off')\n"
      ],
      "metadata": {
        "colab": {
          "base_uri": "https://localhost:8080/",
          "height": 222
        },
        "id": "vY7B6sTZweiV",
        "outputId": "19fefa3b-d8c2-40ef-bda0-535274495a09"
      },
      "id": "vY7B6sTZweiV",
      "execution_count": 41,
      "outputs": [
        {
          "output_type": "execute_result",
          "data": {
            "text/plain": [
              "(-0.5, 127.5, 127.5, -0.5)"
            ]
          },
          "metadata": {},
          "execution_count": 41
        },
        {
          "output_type": "display_data",
          "data": {
            "text/plain": [
              "<Figure size 640x480 with 1 Axes>"
            ],
            "image/png": "[encoded data removed]"
          },
          "metadata": {}
        }
      ]
    },
    {
      "cell_type": "markdown",
      "source": [
        "**Visualizando os Valores Únicos dos Pixels na Imagem:**\n",
        "   - `np.unique(img_olhos)` retorna os valores únicos presentes na matriz `img_olhos`. Esses valores representam os diferentes níveis de intensidade de pixel na imagem onde os olhos estão segmentados.\n",
        "   - Os valores exibidos variam de 0 a 180, com 0 representando pixels pretos (sem interesse) e os outros valores representando diferentes níveis de intensidade nos olhos."
      ],
      "metadata": {
        "id": "BfRgWSYVa8qo"
      },
      "id": "BfRgWSYVa8qo"
    },
    {
      "cell_type": "code",
      "execution_count": 45,
      "id": "1b75e54c-e32d-4ef3-b6e6-f7a873b7b148",
      "metadata": {
        "colab": {
          "base_uri": "https://localhost:8080/"
        },
        "id": "1b75e54c-e32d-4ef3-b6e6-f7a873b7b148",
        "outputId": "ea944eef-f3ef-4394-b475-8809e29c8911"
      },
      "outputs": [
        {
          "output_type": "stream",
          "name": "stdout",
          "text": [
            "[  0 166 167 169 170 171 172 173 174 175 176 179 180]\n"
          ]
        }
      ],
      "source": [
        "print(np.unique(img_olhos))"
      ]
    },
    {
      "cell_type": "markdown",
      "source": [
        " **Análise dos 10% Pixels Mais Escuros:**\n",
        "   - `pixels_not_black = img_olhos[img_olhos > 0]`: Esta linha seleciona todos os pixels da imagem `img_olhos` que são maiores que zero, ou seja, exclui os pixels pretos.\n",
        "   - `pixels_ordered = np.sort(pixels_not_black)`: Os pixels restantes são ordenados do menor para o maior.\n",
        "   - `pixels_ordered_reverse = pixels_ordered[::-1]`: A lista de pixels ordenados é invertida para que os valores mais altos venham primeiro.\n",
        "   - `pixels_10_percent = pixels_ordered_reverse[:int(len(pixels_ordered_reverse) * 0.1)]`: São selecionados os 10% dos pixels mais escuros (menores valores) da imagem invertida.\n",
        "   - O código imprime a lista dos 10% de pixels mais escuros e também o tamanho dessa lista (quantidade de pixels).\n",
        "\n",
        "**Cálculo da Média dos Pixels que Não São Pretos:**\n",
        "   - `media_pixels = np.mean(pixels_10_percent)`: Calcula a média dos valores dos pixels que pertencem aos 10% mais escuros.\n",
        "   - A média é então impressa, fornecendo uma estimativa da intensidade média dos pixels que não são pretos e que estão entre os 10% mais escuros."
      ],
      "metadata": {
        "id": "Zeo94o88bShs"
      },
      "id": "Zeo94o88bShs"
    },
    {
      "cell_type": "code",
      "execution_count": 46,
      "id": "0d3cc939-6a68-48a1-84f6-2c3daa914990",
      "metadata": {
        "colab": {
          "base_uri": "https://localhost:8080/"
        },
        "id": "0d3cc939-6a68-48a1-84f6-2c3daa914990",
        "outputId": "6ec7b2bf-6ec1-4579-bb4f-44eb1618ab3d"
      },
      "outputs": [
        {
          "output_type": "stream",
          "name": "stdout",
          "text": [
            "10% dos pixels mais escuros: [180 180]\n",
            "20\n",
            "Média dos pixels que não são pretos: 180.0\n"
          ]
        }
      ],
      "source": [
        "pixels_not_black= img_olhos[img_olhos > 0]\n",
        "pixels_ordered= np.sort(pixels_not_black)\n",
        "pixels_ordered_reverse= pixels_ordered[::-1]\n",
        "pixels_10_percent= pixels_ordered_reverse[:int(len(pixels_ordered_reverse)*0.1)]\n",
        "print(f\"10% dos pixels mais escuros: {pixels_10_percent}\")\n",
        "print(len(pixels_ordered))\n",
        "media_pixels= np.mean(pixels_10_percent)\n",
        "print(f\"Média dos pixels que não são pretos: {media_pixels}\")"
      ]
    },
    {
      "cell_type": "markdown",
      "source": [
        "### Extração do Texto das Temperaturas na Imagem\n",
        "\n",
        "**Carregar a Imagem:**\n",
        "   - O caminho da imagem é especificado na variável `image_path`, e a função `cv2.imread(image_path)` é usada para carregar a imagem do disco.\n",
        "   - A imagem utilizada aqui parece ser um frame que contém valores de temperatura a serem extraídos.\n",
        "\n",
        "**Pré-processamento da Imagem:**\n",
        "   - A imagem carregada é convertida para escala de cinza com `cv2.cvtColor(image, cv2.COLOR_BGR2GRAY)`, o que facilita a aplicação de técnicas de thresholding e melhora a eficiência do OCR.\n",
        "   - Um thresholding binário inverso é aplicado com `cv2.threshold`, onde todos os pixels com valor acima de 150 são convertidos para 255 (branco), e os abaixo de 150 são convertidos para 0 (preto). Isso melhora o contraste para a extração do texto.\n",
        "\n",
        "**Extração de Texto com Tesseract:**\n",
        "   - A função `pytesseract.image_to_string` é usada para extrair o texto da imagem processada (`thresh`).\n",
        "   - A opção `config='--psm 6'` configura o modo de análise de layout do Tesseract, sendo o modo 6 ideal para blocos de texto uniforme, como números de temperatura.\n",
        "\n",
        "**Exibição do Texto Extraído:**\n",
        "   - O texto extraído pela Tesseract é impresso com `print(text)`.\n",
        "\n",
        "**Uso de Expressão Regular (Regex) para Filtrar Temperaturas:**\n",
        "   - A biblioteca `re` é importada para uso de expressões regulares.\n",
        "   - Um padrão de regex `\\d{2}\\.\\d{2}` é definido para capturar temperaturas no formato `XX.XX` (dois dígitos, seguidos por um ponto e mais dois dígitos).\n",
        "   - A função `re.findall` é usada para procurar todas as correspondências desse padrão no texto extraído.\n",
        "\n",
        "**Exibição das Temperaturas Encontradas:**\n",
        "   - As temperaturas capturadas pela expressão regular são impressas com `print(temperaturas)`.\n"
      ],
      "metadata": {
        "id": "ir0aYHDSbp_9"
      },
      "id": "ir0aYHDSbp_9"
    },
    {
      "cell_type": "code",
      "execution_count": 47,
      "id": "f4b56586-9d89-4e92-b226-e8a6d19eafea",
      "metadata": {
        "colab": {
          "base_uri": "https://localhost:8080/"
        },
        "id": "f4b56586-9d89-4e92-b226-e8a6d19eafea",
        "outputId": "22de421e-c3f8-48f1-e23f-3f125687b751"
      },
      "outputs": [
        {
          "output_type": "stream",
          "name": "stdout",
          "text": [
            "Texto extraído:\n",
            "_ + * “Me pt\n",
            "vale 41.870\n",
            "\n",
            "—— . |\n",
            "23.570\n",
            "\n",
            "IPCamera 02\n",
            "\f\n",
            "Temperaturas encontradas:\n",
            "['41.87', '23.57']\n"
          ]
        }
      ],
      "source": [
        "import cv2\n",
        "import pytesseract\n",
        "\n",
        "image_path = '/content/drive/MyDrive/codigo_temperatura/frame_9766.png'\n",
        "image = cv2.imread(image_path)\n",
        "\n",
        "gray = cv2.cvtColor(image, cv2.COLOR_BGR2GRAY)\n",
        "\n",
        "_, thresh = cv2.threshold(gray, 150, 255, cv2.THRESH_BINARY_INV)\n",
        "\n",
        "text = pytesseract.image_to_string(thresh, config='--psm 6')\n",
        "\n",
        "# Imprimir o texto extraído\n",
        "print(\"Texto extraído:\")\n",
        "print(text)\n",
        "\n",
        "import re\n",
        "\n",
        "pattern = r\"\\d{2}\\.\\d{2}\"\n",
        "\n",
        "temperaturas = re.findall(pattern, text)\n",
        "\n",
        "print(\"Temperaturas encontradas:\")\n",
        "print(temperaturas)"
      ]
    },
    {
      "cell_type": "markdown",
      "source": [
        "### Análise da Barra de Cores para Identificação de Temperaturas Mínimas e Máximas\n",
        "\n",
        "**Carregar a Imagem:**\n",
        "   - O caminho da imagem é definido em `image_path`, e a função `cv2.imread(image_path)` carrega a imagem da barra de temperatura.\n",
        "   - A imagem carregada contém a barra de cores, que é utilizada para mapear valores de temperatura.\n",
        "\n",
        "**Conversão para Escala de Cinza:**\n",
        "   - A imagem carregada é convertida para escala de cinza com `cv2.cvtColor(image, cv2.COLOR_BGR2GRAY)`. Isso simplifica o processamento ao reduzir as informações da imagem para uma única camada de intensidade de cor.\n",
        "\n",
        "**Definir a Região da Barra de Cores:**\n",
        "   - O código define a região da barra de cores na imagem com `bar_region = gray_image[:, -50:]`. Aqui, assumimos que a barra de cores está nos últimos 50 pixels à direita da imagem.\n",
        "   - Essa parte seleciona todas as linhas (dimensão vertical) e apenas os últimos 50 pixels horizontais, correspondendo à barra de cores.\n",
        "\n",
        "   **Observação:** A posição da barra de cores pode variar dependendo da imagem, então esse corte precisa ser ajustado conforme necessário.\n",
        "\n",
        "**Encontrar os Valores Mínimos e Máximos de Pixel:**\n",
        "   - `min_val = np.min(bar_region)` encontra o valor de pixel mais escuro na região da barra (correspondente à temperatura mínima).\n",
        "   - `max_val = np.max(bar_region)` encontra o valor de pixel mais claro na região da barra (correspondente à temperatura máxima).\n",
        "\n",
        "**Exibir os Valores Mínimos e Máximos de Pixel:**\n",
        "   - O código imprime os valores mínimo e máximo de pixel, que representam as temperaturas mínima e máxima mapeadas pela barra de cores.\n",
        "\n",
        "**Visualizar a Barra de Cores Isolada:**\n",
        "   - A região da barra de cores é exibida com `plt.imshow(bar_region, cmap='gray')` em escala de cinza, facilitando a visualização dos valores de pixel correspondentes às temperaturas.\n",
        "   - O título da imagem é definido como \"Barra de cores isolada\" e `plt.show()` exibe a barra de cores cortada da imagem original.\n"
      ],
      "metadata": {
        "id": "bhw-tVYCb-cq"
      },
      "id": "bhw-tVYCb-cq"
    },
    {
      "cell_type": "code",
      "source": [
        "import cv2\n",
        "import numpy as np\n",
        "import matplotlib.pyplot as plt\n",
        "\n",
        "image_path = '/content/drive/MyDrive/Modelo_segmentacao_phd/frame_7307.png'\n",
        "image = cv2.imread(image_path)\n",
        "\n",
        "gray_image = cv2.cvtColor(image, cv2.COLOR_BGR2GRAY)\n",
        "\n",
        "bar_region = gray_image[:, -50:]\n",
        "\n",
        "min_val = np.min(bar_region)\n",
        "max_val = np.max(bar_region)\n",
        "\n",
        "print(f\"Valor de pixel mais escuro (temperatura mínima): {min_val}\")\n",
        "print(f\"Valor de pixel mais claro (temperatura máxima): {max_val}\")\n",
        "\n",
        "plt.imshow(bar_region, cmap='gray')\n",
        "plt.title(\"Barra de cores isolada\")\n",
        "plt.show()"
      ],
      "metadata": {
        "colab": {
          "base_uri": "https://localhost:8080/",
          "height": 487
        },
        "id": "ao7tRrqmLKx9",
        "outputId": "dd32d5fa-fd61-4c44-9dd4-7178a4725943"
      },
      "id": "ao7tRrqmLKx9",
      "execution_count": 48,
      "outputs": [
        {
          "output_type": "stream",
          "name": "stdout",
          "text": [
            "Valor de pixel mais escuro (temperatura mínima): 26\n",
            "Valor de pixel mais claro (temperatura máxima): 252\n"
          ]
        },
        {
          "output_type": "display_data",
          "data": {
            "text/plain": [
              "<Figure size 640x480 with 1 Axes>"
            ],
            "image/png": "[encoded data removed]"
          },
          "metadata": {}
        }
      ]
    },
    {
      "cell_type": "markdown",
      "source": [
        "**Criação do Dicionário de Relacionamento `relation_temp`:**\n",
        "   - Um dicionário `relation_temp` é criado para mapear os valores de pixel (mínimo e máximo) às respectivas temperaturas extraídas da imagem.\n",
        "   - O valor mínimo de pixel (`min_val`) é associado à temperatura mais baixa (`temperaturas[1]`), e o valor máximo de pixel (`max_val`) é associado à temperatura mais alta (`temperaturas[0]`).\n",
        "   - O dicionário é impresso e exibe um mapeamento como `{26: '23.57', 252: '41.87'}`, onde 26 e 252 são os valores de pixel, e as temperaturas são exibidas em graus Celsius.\n",
        "\n",
        "   **Extração e Conversão de Temperaturas Mínima e Máxima:**\n",
        "   - `temp_min` e `temp_max` são extraídas do array `temperaturas`, convertendo os valores de string para `float`, para facilitar os cálculos posteriores.\n",
        "   - A temperatura mínima corresponde ao segundo valor do array (`temperaturas[1]`) e a temperatura máxima ao primeiro valor (`temperaturas[0]`).\n",
        "   - As temperaturas mínima e máxima são então impressas: `23.57ºC` e `41.87ºC`."
      ],
      "metadata": {
        "id": "XQXqL07hcVrj"
      },
      "id": "XQXqL07hcVrj"
    },
    {
      "cell_type": "code",
      "source": [
        "relation_temp= dict()\n",
        "\n",
        "relation_temp[min_val]= temperaturas[1]\n",
        "relation_temp[max_val]= temperaturas[0]\n",
        "\n",
        "relation_temp"
      ],
      "metadata": {
        "colab": {
          "base_uri": "https://localhost:8080/"
        },
        "id": "f2YI9QoaLNr2",
        "outputId": "3f6f6112-8d76-49f1-bc99-79b18d98bfc8"
      },
      "id": "f2YI9QoaLNr2",
      "execution_count": 49,
      "outputs": [
        {
          "output_type": "execute_result",
          "data": {
            "text/plain": [
              "{26: '23.57', 252: '41.87'}"
            ]
          },
          "metadata": {},
          "execution_count": 49
        }
      ]
    },
    {
      "cell_type": "markdown",
      "source": [
        "**Extração e Conversão de Temperaturas Mínima e Máxima:**\n",
        "   - `temp_min` e `temp_max` são extraídas do array `temperaturas`, convertendo os valores de string para `float`, para facilitar os cálculos posteriores.\n",
        "   - A temperatura mínima corresponde ao segundo valor do array (`temperaturas[1]`) e a temperatura máxima ao primeiro valor (`temperaturas[0]`).\n",
        "   - As temperaturas mínima e máxima são então impressas: `23.57ºC` e `41.87ºC`."
      ],
      "metadata": {
        "id": "J6hdtxn4cYRR"
      },
      "id": "J6hdtxn4cYRR"
    },
    {
      "cell_type": "code",
      "source": [
        "temp_min = float(temperaturas[1])\n",
        "temp_max = float(temperaturas[0])\n",
        "\n",
        "print(f\"Temperatura mínima: {temp_min}°C\")\n",
        "print(f\"Temperatura máxima: {temp_max}°C\")\n",
        "\n",
        "temperatura_calculada = ((media_pixels - min_val) / (max_val - min_val)) * (temp_max - temp_min) + temp_min\n",
        "\n",
        "print(f\"A temperatura correspondente à média dos pixels é: {temperatura_calculada:.2f}°C\")"
      ],
      "metadata": {
        "colab": {
          "base_uri": "https://localhost:8080/"
        },
        "id": "g3H33DIHXMQ6",
        "outputId": "5d811922-8f60-4132-c77d-fd7008231306"
      },
      "id": "g3H33DIHXMQ6",
      "execution_count": 50,
      "outputs": [
        {
          "output_type": "stream",
          "name": "stdout",
          "text": [
            "Temperatura mínima: 23.57°C\n",
            "Temperatura máxima: 41.87°C\n",
            "A temperatura correspondente à média dos pixels é: 36.04°C\n"
          ]
        }
      ]
    },
    {
      "cell_type": "markdown",
      "source": [
        "### Adição de Texto com a Temperatura Calculada em uma Imagem\n",
        "\n",
        "**Definir a Posição do Texto:**\n",
        "   - `posicao_texto = (1, 120)` define as coordenadas (x, y) onde o texto será exibido na imagem. Neste caso, o texto será posicionado na altura de 120 pixels e 1 pixel da borda esquerda.\n",
        "\n",
        "**Definir a Fonte do Texto:**\n",
        "   - `cv2.FONT_HERSHEY_SIMPLEX` é a fonte escolhida para o texto a ser inserido na imagem. Essa é uma fonte simples e legível disponível no OpenCV.\n",
        "\n",
        "**Definir a Cor do Texto:**\n",
        "   - A cor do texto é especificada em formato BGR (Blue, Green, Red) como `(255, 255, 255)`, que representa a cor branca.\n",
        "\n",
        "**Definir o Tamanho e Espessura da Fonte:**\n",
        "   - `tamanho_fonte = 0.33`: Define o tamanho do texto na imagem.\n",
        "   - `espessura = 1`: Define a espessura das linhas que formam o texto.\n",
        "\n",
        "**Criar uma Cópia da Imagem:**\n",
        "   - `nova_imagem = img_grayscale.copy()` cria uma cópia da imagem em escala de cinza, na qual o texto será adicionado. Isso garante que a imagem original não seja modificada.\n",
        "\n",
        "**Escrever o Texto na Imagem:**\n",
        "   - `cv2.putText(nova_imagem, f\"Temperatura: {temperatura_calculada:.2f} C\", posicao_texto, fonte, tamanho_fonte, cor, espessura)` adiciona o texto da temperatura calculada à imagem.\n",
        "   - O texto exibido será algo como `\"Temperatura: 36.04 C\"`, sendo `temperatura_calculada` o valor previamente calculado, exibido com duas casas decimais.\n",
        "\n",
        "**Exibir a Imagem com o Texto:**\n",
        "   - `plt.imshow(nova_imagem, cmap='gray')` exibe a imagem em escala de cinza com o texto sobreposto.\n",
        "   - `plt.title('Imagem com temperatura')` define o título da imagem exibida.\n",
        "   - `plt.axis('off')` remove os eixos para que o foco seja a imagem com o texto."
      ],
      "metadata": {
        "id": "O3BFkB-Zcy7i"
      },
      "id": "O3BFkB-Zcy7i"
    },
    {
      "cell_type": "code",
      "source": [
        "import cv2\n",
        "\n",
        "posicao_texto = (1, 120)\n",
        "\n",
        "# Definir a fonte do texto\n",
        "fonte = cv2.FONT_HERSHEY_SIMPLEX\n",
        "\n",
        "cor = (255, 255, 255)\n",
        "\n",
        "tamanho_fonte = 0.33\n",
        "espessura = 1\n",
        "\n",
        "nova_imagem = img_grayscale.copy()\n",
        "\n",
        "cv2.putText(nova_imagem, f\"Temperatura: {temperatura_calculada:.2f} C\", posicao_texto, fonte, tamanho_fonte, cor, espessura)\n",
        "\n",
        "plt.subplot(1, 3, 3)\n",
        "plt.imshow(nova_imagem, cmap='gray')\n",
        "plt.title('Imagem com temperatura')\n",
        "plt.axis('off')\n",
        "\n",
        "# # Se você quiser salvar a imagem com o texto\n",
        "# cv2.imwrite(\"imagem_com_temperatura.png\", img_grayscale)\n"
      ],
      "metadata": {
        "colab": {
          "base_uri": "https://localhost:8080/",
          "height": 222
        },
        "id": "zt111OmbX2e0",
        "outputId": "7b0fce5e-6bc2-470b-8b24-14dd45efa9ce"
      },
      "id": "zt111OmbX2e0",
      "execution_count": 51,
      "outputs": [
        {
          "output_type": "execute_result",
          "data": {
            "text/plain": [
              "(-0.5, 127.5, 127.5, -0.5)"
            ]
          },
          "metadata": {},
          "execution_count": 51
        },
        {
          "output_type": "display_data",
          "data": {
            "text/plain": [
              "<Figure size 640x480 with 1 Axes>"
            ],
            "image/png": "[encoded data removed]"
          },
          "metadata": {}
        }
      ]
    }
  ],
  "metadata": {
    "kernelspec": {
      "display_name": "Python 3",
      "name": "python3"
    },
    "language_info": {
      "codemirror_mode": {
        "name": "ipython",
        "version": 3
      },
      "file_extension": ".py",
      "mimetype": "text/x-python",
      "name": "python",
      "nbconvert_exporter": "python",
      "pygments_lexer": "ipython3",
      "version": "3.12.3"
    },
    "colab": {
      "provenance": [],
      "machine_shape": "hm"
    }
  },
  "nbformat": 4,
  "nbformat_minor": 5
}