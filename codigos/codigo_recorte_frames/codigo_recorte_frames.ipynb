{
  "nbformat": 4,
  "nbformat_minor": 0,
  "metadata": {
    "colab": {
      "provenance": [],
      "gpuType": "T4"
    },
    "kernelspec": {
      "name": "python3",
      "display_name": "Python 3"
    },
    "language_info": {
      "name": "python"
    },
    "accelerator": "GPU"
  },
  "cells": [
    {
      "cell_type": "markdown",
      "source": [
        "### Upload e Processamento de Vídeo no Google Colab usando OpenCV\n",
        "\n",
        "**Importação de Bibliotecas:**\n",
        "   - `files` do módulo `google.colab`: Usado para fazer upload de arquivos no ambiente Colab.\n",
        "   - `os`: Utilizado para manipulação de arquivos e diretórios no sistema operacional.\n",
        "   - `cv2`: Biblioteca OpenCV, usada para carregar e processar vídeos.\n"
      ],
      "metadata": {
        "id": "FjVdVj1Pd-ym"
      }
    },
    {
      "cell_type": "code",
      "source": [
        "from google.colab import files\n",
        "import os\n",
        "import cv2"
      ],
      "metadata": {
        "id": "xq2Bocxs0lHD"
      },
      "execution_count": 1,
      "outputs": []
    },
    {
      "cell_type": "markdown",
      "source": [
        " **Função para Fazer Upload de um Vídeo:**\n",
        "   - A função `upload_video()` usa `files.upload()` para abrir uma janela de diálogo e permitir o upload de arquivos de vídeo do computador local para o Colab.\n",
        "   - O vídeo carregado é acessado pelo nome da chave no dicionário retornado, e a função retorna o nome do arquivo de vídeo (`video_file`).\n"
      ],
      "metadata": {
        "id": "jRlzl4GreCej"
      }
    },
    {
      "cell_type": "code",
      "source": [
        "def upload_video():\n",
        "    uploaded = files.upload()\n",
        "    video_file = list(uploaded.keys())[0]\n",
        "    return video_file"
      ],
      "metadata": {
        "id": "C5CCSTyXx44-"
      },
      "execution_count": 2,
      "outputs": []
    },
    {
      "cell_type": "markdown",
      "source": [
        "**Carregar o Caminho do Vídeo:**\n",
        "   - `video_path = upload_video()` chama a função `upload_video()` e atribui o nome do arquivo carregado à variável `video_path`.\n",
        "   - `print(f\"O vídeo foi carregado em: {video_path}\")` imprime uma mensagem confirmando que o vídeo foi carregado com sucesso, mostrando o nome do arquivo."
      ],
      "metadata": {
        "id": "4Ao999ZpeEVR"
      }
    },
    {
      "cell_type": "code",
      "source": [
        "video_path = upload_video()\n",
        "print(f\"O vídeo foi carregado em: {video_path}\")"
      ],
      "metadata": {
        "colab": {
          "base_uri": "https://localhost:8080/",
          "height": 90
        },
        "id": "nLY1Mjun0jGe",
        "outputId": "da69957c-93a7-4592-f075-3e231716ee4a"
      },
      "execution_count": 3,
      "outputs": [
        {
          "output_type": "display_data",
          "data": {
            "text/plain": [
              "<IPython.core.display.HTML object>"
            ],
            "text/html": [
              "\n",
              "     <input type=\"file\" id=\"files-3f9cd512-c7af-4a32-96c2-907770d6ddb0\" name=\"files[]\" multiple disabled\n",
              "        style=\"border:none\" />\n",
              "     <output id=\"result-3f9cd512-c7af-4a32-96c2-907770d6ddb0\">\n",
              "      Upload widget is only available when the cell has been executed in the\n",
              "      current browser session. Please rerun this cell to enable.\n",
              "      </output>\n",
              "      <script>// Copyright 2017 Google LLC\n",
              "//\n",
              "// Licensed under the Apache License, Version 2.0 (the \"License\");\n",
              "// you may not use this file except in compliance with the License.\n",
              "// You may obtain a copy of the License at\n",
              "//\n",
              "//      http://www.apache.org/licenses/LICENSE-2.0\n",
              "//\n",
              "// Unless required by applicable law or agreed to in writing, software\n",
              "// distributed under the License is distributed on an \"AS IS\" BASIS,\n",
              "// WITHOUT WARRANTIES OR CONDITIONS OF ANY KIND, either express or implied.\n",
              "// See the License for the specific language governing permissions and\n",
              "// limitations under the License.\n",
              "\n",
              "/**\n",
              " * @fileoverview Helpers for google.colab Python module.\n",
              " */\n",
              "(function(scope) {\n",
              "function span(text, styleAttributes = {}) {\n",
              "  const element = document.createElement('span');\n",
              "  element.textContent = text;\n",
              "  for (const key of Object.keys(styleAttributes)) {\n",
              "    element.style[key] = styleAttributes[key];\n",
              "  }\n",
              "  return element;\n",
              "}\n",
              "\n",
              "// Max number of bytes which will be uploaded at a time.\n",
              "const MAX_PAYLOAD_SIZE = 100 * 1024;\n",
              "\n",
              "function _uploadFiles(inputId, outputId) {\n",
              "  const steps = uploadFilesStep(inputId, outputId);\n",
              "  const outputElement = document.getElementById(outputId);\n",
              "  // Cache steps on the outputElement to make it available for the next call\n",
              "  // to uploadFilesContinue from Python.\n",
              "  outputElement.steps = steps;\n",
              "\n",
              "  return _uploadFilesContinue(outputId);\n",
              "}\n",
              "\n",
              "// This is roughly an async generator (not supported in the browser yet),\n",
              "// where there are multiple asynchronous steps and the Python side is going\n",
              "// to poll for completion of each step.\n",
              "// This uses a Promise to block the python side on completion of each step,\n",
              "// then passes the result of the previous step as the input to the next step.\n",
              "function _uploadFilesContinue(outputId) {\n",
              "  const outputElement = document.getElementById(outputId);\n",
              "  const steps = outputElement.steps;\n",
              "\n",
              "  const next = steps.next(outputElement.lastPromiseValue);\n",
              "  return Promise.resolve(next.value.promise).then((value) => {\n",
              "    // Cache the last promise value to make it available to the next\n",
              "    // step of the generator.\n",
              "    outputElement.lastPromiseValue = value;\n",
              "    return next.value.response;\n",
              "  });\n",
              "}\n",
              "\n",
              "/**\n",
              " * Generator function which is called between each async step of the upload\n",
              " * process.\n",
              " * @param {string} inputId Element ID of the input file picker element.\n",
              " * @param {string} outputId Element ID of the output display.\n",
              " * @return {!Iterable<!Object>} Iterable of next steps.\n",
              " */\n",
              "function* uploadFilesStep(inputId, outputId) {\n",
              "  const inputElement = document.getElementById(inputId);\n",
              "  inputElement.disabled = false;\n",
              "\n",
              "  const outputElement = document.getElementById(outputId);\n",
              "  outputElement.innerHTML = '';\n",
              "\n",
              "  const pickedPromise = new Promise((resolve) => {\n",
              "    inputElement.addEventListener('change', (e) => {\n",
              "      resolve(e.target.files);\n",
              "    });\n",
              "  });\n",
              "\n",
              "  const cancel = document.createElement('button');\n",
              "  inputElement.parentElement.appendChild(cancel);\n",
              "  cancel.textContent = 'Cancel upload';\n",
              "  const cancelPromise = new Promise((resolve) => {\n",
              "    cancel.onclick = () => {\n",
              "      resolve(null);\n",
              "    };\n",
              "  });\n",
              "\n",
              "  // Wait for the user to pick the files.\n",
              "  const files = yield {\n",
              "    promise: Promise.race([pickedPromise, cancelPromise]),\n",
              "    response: {\n",
              "      action: 'starting',\n",
              "    }\n",
              "  };\n",
              "\n",
              "  cancel.remove();\n",
              "\n",
              "  // Disable the input element since further picks are not allowed.\n",
              "  inputElement.disabled = true;\n",
              "\n",
              "  if (!files) {\n",
              "    return {\n",
              "      response: {\n",
              "        action: 'complete',\n",
              "      }\n",
              "    };\n",
              "  }\n",
              "\n",
              "  for (const file of files) {\n",
              "    const li = document.createElement('li');\n",
              "    li.append(span(file.name, {fontWeight: 'bold'}));\n",
              "    li.append(span(\n",
              "        `(${file.type || 'n/a'}) - ${file.size} bytes, ` +\n",
              "        `last modified: ${\n",
              "            file.lastModifiedDate ? file.lastModifiedDate.toLocaleDateString() :\n",
              "                                    'n/a'} - `));\n",
              "    const percent = span('0% done');\n",
              "    li.appendChild(percent);\n",
              "\n",
              "    outputElement.appendChild(li);\n",
              "\n",
              "    const fileDataPromise = new Promise((resolve) => {\n",
              "      const reader = new FileReader();\n",
              "      reader.onload = (e) => {\n",
              "        resolve(e.target.result);\n",
              "      };\n",
              "      reader.readAsArrayBuffer(file);\n",
              "    });\n",
              "    // Wait for the data to be ready.\n",
              "    let fileData = yield {\n",
              "      promise: fileDataPromise,\n",
              "      response: {\n",
              "        action: 'continue',\n",
              "      }\n",
              "    };\n",
              "\n",
              "    // Use a chunked sending to avoid message size limits. See b/62115660.\n",
              "    let position = 0;\n",
              "    do {\n",
              "      const length = Math.min(fileData.byteLength - position, MAX_PAYLOAD_SIZE);\n",
              "      const chunk = new Uint8Array(fileData, position, length);\n",
              "      position += length;\n",
              "\n",
              "      const base64 = btoa(String.fromCharCode.apply(null, chunk));\n",
              "      yield {\n",
              "        response: {\n",
              "          action: 'append',\n",
              "          file: file.name,\n",
              "          data: base64,\n",
              "        },\n",
              "      };\n",
              "\n",
              "      let percentDone = fileData.byteLength === 0 ?\n",
              "          100 :\n",
              "          Math.round((position / fileData.byteLength) * 100);\n",
              "      percent.textContent = `${percentDone}% done`;\n",
              "\n",
              "    } while (position < fileData.byteLength);\n",
              "  }\n",
              "\n",
              "  // All done.\n",
              "  yield {\n",
              "    response: {\n",
              "      action: 'complete',\n",
              "    }\n",
              "  };\n",
              "}\n",
              "\n",
              "scope.google = scope.google || {};\n",
              "scope.google.colab = scope.google.colab || {};\n",
              "scope.google.colab._files = {\n",
              "  _uploadFiles,\n",
              "  _uploadFilesContinue,\n",
              "};\n",
              "})(self);\n",
              "</script> "
            ]
          },
          "metadata": {}
        },
        {
          "output_type": "stream",
          "name": "stdout",
          "text": [
            "Saving video_apresentação - Made with Clipchamp.mp4 to video_apresentação - Made with Clipchamp.mp4\n",
            "O vídeo foi carregado em: video_apresentação - Made with Clipchamp.mp4\n"
          ]
        }
      ]
    },
    {
      "cell_type": "markdown",
      "source": [
        "**Configuração da Taxa de Quadros (FPS):**\n",
        "   - `capture_fps = 1.5`: Define a taxa de quadros que será capturada durante o processamento do vídeo (1,5 quadros por segundo).\n",
        "  \n",
        "**Carregar o Vídeo Usando OpenCV:**\n",
        "   - `cap = cv2.VideoCapture(video_path)` carrega o vídeo utilizando o caminho salvo em `video_path`.\n",
        "   - `cap.isOpened()` verifica se o vídeo foi carregado corretamente. Caso contrário, imprime uma mensagem de erro e encerra o programa."
      ],
      "metadata": {
        "id": "cIt9Qph2eN8B"
      }
    },
    {
      "cell_type": "code",
      "source": [
        "capture_fps = 1.5\n",
        "\n",
        "# Carrega o vídeo\n",
        "cap = cv2.VideoCapture(video_path)\n",
        "\n",
        "if not cap.isOpened():\n",
        "    print(\"Erro ao abrir o vídeo.\")\n",
        "    exit()"
      ],
      "metadata": {
        "id": "l6XBJhUPwyg4"
      },
      "execution_count": 4,
      "outputs": []
    },
    {
      "cell_type": "markdown",
      "source": [
        "**Obter a Taxa de Quadros Original e Calcular o Intervalo de Quadros:**\n",
        "   - `original_fps = cap.get(cv2.CAP_PROP_FPS)` obtém a taxa de quadros original (FPS) do vídeo.\n",
        "   - `frame_interval = int(original_fps / capture_fps)` calcula o intervalo de quadros a serem processados, baseado na taxa de quadros original e na taxa de captura definida. O resultado é quantos quadros devem ser \"pulados\" para alcançar a taxa de captura desejada.\n",
        "   - O intervalo de quadros (`frame_interval`) e a taxa de quadros original (`original_fps`) são impressos."
      ],
      "metadata": {
        "id": "zxYDFufmeQdw"
      }
    },
    {
      "cell_type": "code",
      "source": [
        "original_fps = cap.get(cv2.CAP_PROP_FPS)\n",
        "frame_interval = int(original_fps / capture_fps)\n",
        "print(\"Frame Int\", frame_interval)\n",
        "print(\"Original fps\", original_fps)"
      ],
      "metadata": {
        "colab": {
          "base_uri": "https://localhost:8080/"
        },
        "id": "IxMZk2pewzhZ",
        "outputId": "2791e60b-97ab-416c-f0e9-db3aed195344"
      },
      "execution_count": 5,
      "outputs": [
        {
          "output_type": "stream",
          "name": "stdout",
          "text": [
            "Frame Int 20\n",
            "Original fps 30.0\n"
          ]
        }
      ]
    },
    {
      "cell_type": "markdown",
      "source": [
        "**Inicialização de Contadores:**\n",
        "   - `frame_count = 0`: Contador para o número total de frames processados.\n",
        "   - `saved_frame_count = 0`: Contador para o número de frames salvos no diretório de saída.\n"
      ],
      "metadata": {
        "id": "YR931ioSjnNm"
      }
    },
    {
      "cell_type": "code",
      "source": [
        "frame_count = 0\n",
        "saved_frame_count = 0"
      ],
      "metadata": {
        "id": "qquW0lBvw10h"
      },
      "execution_count": 6,
      "outputs": []
    },
    {
      "cell_type": "markdown",
      "source": [
        "**Definir o Diretório de Saída:**\n",
        "   - `output_dir = '/content/teste'`: Caminho do diretório onde os frames extraídos do vídeo serão salvos. Certifique-se de que este diretório exista ou tenha permissão para ser criado.\n"
      ],
      "metadata": {
        "id": "C06fWb21jpkv"
      }
    },
    {
      "cell_type": "code",
      "source": [
        "output_dir= '/content/teste'"
      ],
      "metadata": {
        "id": "XQSJNrkx1De_"
      },
      "execution_count": 7,
      "outputs": []
    },
    {
      "cell_type": "markdown",
      "source": [
        "**Loop para Processar e Salvar Frames:**\n",
        "   - O loop `while True` é usado para ler e processar cada frame do vídeo.\n",
        "     - `ret, frame = cap.read()` lê o próximo frame do vídeo. O valor de `ret` é `True` se o frame foi lido com sucesso e `False` se não houver mais frames.\n",
        "     - `if not ret: break` verifica se o vídeo chegou ao fim, interrompendo o loop.\n",
        "\n",
        "**Salvar Frames em Intervals Específicos:**\n",
        "   - `if frame_count % frame_interval == 0`: A cada intervalo calculado (baseado na taxa de captura de frames), o frame é salvo.\n",
        "     - `frame_filename = os.path.join(output_dir, f'frame_{saved_frame_count:04d}.png')`: Cria o nome do arquivo para o frame salvo, no formato `frame_0001.png`, `frame_0002.png`, e assim por diante.\n",
        "     - `cv2.imwrite(frame_filename, frame)`: Salva o frame no diretório de saída como um arquivo de imagem PNG.\n",
        "     - O contador `saved_frame_count` é incrementado cada vez que um frame é salvo.\n",
        "\n",
        "**Incrementar o Contador de Frames Processados:**\n",
        "   - `frame_count += 1`: O contador de frames processados é incrementado após cada leitura de frame, independentemente de o frame ser salvo ou não.\n"
      ],
      "metadata": {
        "id": "Ohg61_Ksj431"
      }
    },
    {
      "cell_type": "code",
      "source": [
        "while True:\n",
        "    # Lê o próximo frame\n",
        "    ret, frame = cap.read()\n",
        "\n",
        "    if not ret:\n",
        "        break\n",
        "    # Salva o frame se ele corresponder ao intervalo calculado\n",
        "    if frame_count % frame_interval == 0:\n",
        "        frame_filename = os.path.join(output_dir, f'frame_{saved_frame_count:04d}.png')\n",
        "        cv2.imwrite(frame_filename, frame)\n",
        "        saved_frame_count += 1\n",
        "    frame_count += 1"
      ],
      "metadata": {
        "id": "mBGubzT3w4EE"
      },
      "execution_count": 8,
      "outputs": []
    },
    {
      "cell_type": "markdown",
      "source": [
        " **Finalizar o Processamento**"
      ],
      "metadata": {
        "id": "RuVY3oJGm2LG"
      }
    },
    {
      "cell_type": "code",
      "source": [
        "cap.release()\n",
        "print(f\"Extração concluída! {saved_frame_count} frames foram salvos no diretório '{output_dir}'.\")"
      ],
      "metadata": {
        "id": "Tf9MURr3w7FO",
        "colab": {
          "base_uri": "https://localhost:8080/"
        },
        "outputId": "aad6081d-6d0e-4c31-c7fa-0f25e888a9e8"
      },
      "execution_count": 9,
      "outputs": [
        {
          "output_type": "stream",
          "name": "stdout",
          "text": [
            "Extração concluída! 152 frames foram salvos no diretório '/content/teste'.\n"
          ]
        }
      ]
    }
  ]
}