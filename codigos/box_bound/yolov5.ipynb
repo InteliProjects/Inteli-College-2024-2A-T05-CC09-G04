{
  "nbformat": 4,
  "nbformat_minor": 0,
  "metadata": {
    "colab": {
      "provenance": [],
      "include_colab_link": true
    },
    "kernelspec": {
      "name": "python3",
      "display_name": "Python 3"
    },
    "language_info": {
      "name": "python"
    }
  },
  "cells": [
    {
      "cell_type": "markdown",
      "metadata": {
        "id": "view-in-github",
        "colab_type": "text"
      },
      "source": [
        "<a href=\"https://colab.research.google.com/github/Inteli-College/2024-2A-T05-CC09-G04/blob/detectron2/yolov5.ipynb\" target=\"_parent\"><img src=\"https://colab.research.google.com/assets/colab-badge.svg\" alt=\"Open In Colab\"/></a>"
      ]
    },
    {
      "cell_type": "code",
      "source": [
        "from google.colab import drive\n",
        "drive.mount('/content/drive')"
      ],
      "metadata": {
        "colab": {
          "base_uri": "https://localhost:8080/"
        },
        "id": "I0mDbFk-F6QC",
        "outputId": "15372c24-4cee-423e-b4c5-45982c91db7e"
      },
      "execution_count": null,
      "outputs": [
        {
          "output_type": "stream",
          "name": "stdout",
          "text": [
            "Drive already mounted at /content/drive; to attempt to forcibly remount, call drive.mount(\"/content/drive\", force_remount=True).\n"
          ]
        }
      ]
    },
    {
      "cell_type": "code",
      "source": [
        "# Clonar o repositório YOLOv5\n",
        "!git clone https://github.com/ultralytics/yolov5.git\n",
        "%cd yolov5\n",
        "\n",
        "# Instalar as dependências\n",
        "!pip install -r requirements.txt\n"
      ],
      "metadata": {
        "collapsed": true,
        "id": "DDaktIyuGINK"
      },
      "execution_count": null,
      "outputs": []
    },
    {
      "cell_type": "code",
      "source": [
        "!ls hubconf.py\n"
      ],
      "metadata": {
        "colab": {
          "base_uri": "https://localhost:8080/"
        },
        "id": "LqQKKpNJO05O",
        "outputId": "3cc026b6-131d-4085-85a7-abdd192e4491"
      },
      "execution_count": null,
      "outputs": [
        {
          "output_type": "stream",
          "name": "stdout",
          "text": [
            "hubconf.py\n"
          ]
        }
      ]
    },
    {
      "cell_type": "markdown",
      "source": [
        "Este código carrega imagens e suas respectivas anotações (bounding boxes) em um diretório e desenha essas caixas sobre as imagens. Ele converte coordenadas normalizadas para pixels e exibe as imagens com as bounding boxes usando **OpenCV** e **Matplotlib**."
      ],
      "metadata": {
        "id": "VXro8voddrDY"
      }
    },
    {
      "cell_type": "code",
      "source": [
        "'''\n",
        "import os\n",
        "import cv2\n",
        "import matplotlib.pyplot as plt\n",
        "\n",
        "# Diretório das imagens e anotações\n",
        "image_dir = '/content/drive/MyDrive/dateset/images'\n",
        "annotation_dir = '/content/drive/MyDrive/dateset/labels'\n",
        "\n",
        "# Função para desenhar bounding boxes nas imagens\n",
        "def draw_bounding_boxes(image, boxes):\n",
        "    h, w = image.shape[:2]\n",
        "    for box in boxes:\n",
        "        class_id, x_center, y_center, width, height = box\n",
        "        # Converta as coordenadas normalizadas para pixels\n",
        "        x_center, y_center, width, height = x_center * w, y_center * h, width * w, height * h\n",
        "        x_min = int(x_center - width / 2)\n",
        "        y_min = int(y_center - height / 2)\n",
        "        x_max = int(x_center + width / 2)\n",
        "        y_max = int(y_center + height / 2)\n",
        "\n",
        "        # Desenhar a bounding box na imagem\n",
        "        cv2.rectangle(image, (x_min, y_min), (x_max, y_max), (255, 0, 0), 2)\n",
        "\n",
        "    return image\n",
        "\n",
        "# Função para carregar e verificar imagens e anotações\n",
        "def load_and_display(image_path, annotation_path):\n",
        "    # Carregar a imagem\n",
        "    image = cv2.imread(image_path)\n",
        "    image_rgb = cv2.cvtColor(image, cv2.COLOR_BGR2RGB)  # Converter para RGB para exibição correta no matplotlib\n",
        "\n",
        "    # Carregar as anotações\n",
        "    boxes = []\n",
        "    with open(annotation_path, 'r') as f:\n",
        "        for line in f.readlines():\n",
        "            class_id, x_center, y_center, width, height = map(float, line.strip().split())\n",
        "            boxes.append([class_id, x_center, y_center, width, height])\n",
        "\n",
        "    # Desenhar as bounding boxes na imagem\n",
        "    image_with_boxes = draw_bounding_boxes(image_rgb, boxes)\n",
        "\n",
        "    # Mostrar a imagem com bounding boxes\n",
        "    plt.imshow(image_with_boxes)\n",
        "    plt.axis('off')\n",
        "    plt.show()\n",
        "\n",
        "# Listar os arquivos de imagem no diretório\n",
        "image_files = [f for f in os.listdir(image_dir) if f.endswith('.png')]\n",
        "\n",
        "# Testar as primeiras 5 imagens e suas anotações\n",
        "for image_file in image_files[:5]:\n",
        "    image_path = os.path.join(image_dir, image_file)\n",
        "    annotation_file = image_file.replace('.png', '.txt')\n",
        "    annotation_path = os.path.join(annotation_dir, annotation_file)\n",
        "\n",
        "    if os.path.exists(annotation_path):\n",
        "        print(f\"Mostrando imagem e anotações para {image_file}\")\n",
        "        load_and_display(image_path, annotation_path)\n",
        "    else:\n",
        "        print(f\"Anotação não encontrada para {image_file}\")\n"
      ],
      "metadata": {
        "collapsed": true,
        "id": "9TnucD6PG14y"
      },
      "execution_count": null,
      "outputs": []
    },
    {
      "cell_type": "markdown",
      "source": [
        "Este código divide um conjunto de imagens em diretórios de **treino** e **validação** (80/20) e move os arquivos correspondentes para as pastas corretas. As anotações associadas às imagens também são movidas. Ele garante que cada imagem tenha uma anotação correspondente e avisa se alguma estiver faltando."
      ],
      "metadata": {
        "id": "RzbwsJlJd6JX"
      }
    },
    {
      "cell_type": "code",
      "source": [
        "'''\n",
        "import os\n",
        "import random\n",
        "import shutil\n",
        "\n",
        "# Diretórios originais\n",
        "image_dir = '/content/drive/MyDrive/dateset/images'\n",
        "label_dir = '/content/drive/MyDrive/dateset/labels'\n",
        "\n",
        "# Diretórios de destino\n",
        "train_images_dir = '/content/drive/MyDrive/cattle_dataset/dateset/images/train'\n",
        "val_images_dir = '/content/drive/MyDrive/cattle_dataset/dateset/images/val'\n",
        "train_labels_dir = '/content/drive/MyDrive/cattle_dataset/dateset/labels/train'\n",
        "val_labels_dir = '/content/drive/MyDrive/cattle_dataset/dateset/labels/val'\n",
        "\n",
        "# Criar diretórios de treino e validação\n",
        "os.makedirs(train_images_dir, exist_ok=True)\n",
        "os.makedirs(val_images_dir, exist_ok=True)\n",
        "os.makedirs(train_labels_dir, exist_ok=True)\n",
        "os.makedirs(val_labels_dir, exist_ok=True)\n",
        "\n",
        "# Listar todos os arquivos de imagem\n",
        "images = [f for f in os.listdir(image_dir) if f.endswith('.png') or f.endswith('.jpg')]\n",
        "\n",
        "# Embaralhar as imagens\n",
        "random.shuffle(images)\n",
        "\n",
        "# Dividir 80% para treino e 20% para validação\n",
        "split_idx = int(0.8 * len(images))\n",
        "train_images = images[:split_idx]\n",
        "val_images = images[split_idx:]\n",
        "\n",
        "# Função para mover arquivos\n",
        "def move_files(image_list, target_image_dir, target_label_dir):\n",
        "    for image in image_list:\n",
        "        image_path = os.path.join(image_dir, image)\n",
        "        label_path = os.path.join(label_dir, image.replace('.png', '.txt').replace('.jpg', '.txt'))\n",
        "\n",
        "        if os.path.exists(label_path):\n",
        "            shutil.move(image_path, os.path.join(target_image_dir, image))\n",
        "            shutil.move(label_path, os.path.join(target_label_dir, os.path.basename(label_path)))\n",
        "        else:\n",
        "            print(f\"Anotação não encontrada para {image}\")\n",
        "\n",
        "# Mover os arquivos para treino e validação\n",
        "move_files(train_images, train_images_dir, train_labels_dir)\n",
        "move_files(val_images, val_images_dir, val_labels_dir)\n",
        "\n",
        "print(\"Divisão de treino/validação completa!\")\n"
      ],
      "metadata": {
        "id": "za-EnfuXWRwA",
        "colab": {
          "base_uri": "https://localhost:8080/"
        },
        "outputId": "a774602a-e71a-46e6-b273-a596611d7d75"
      },
      "execution_count": null,
      "outputs": [
        {
          "output_type": "stream",
          "name": "stdout",
          "text": [
            "Divisão de treino/validação completa!\n"
          ]
        }
      ]
    },
    {
      "cell_type": "markdown",
      "source": [
        "Este comando treina o modelo **YOLOv5m** usando imagens de **128x128**, com batch size de **16** por **100 epochs**. O arquivo **data.yaml** define o dataset, e o modelo pré-treinado **yolov5m.pt** é usado como base. A opção `--cache` acelera o treinamento carregando os dados na memória."
      ],
      "metadata": {
        "id": "jCpPPY7PeAQC"
      }
    },
    {
      "cell_type": "code",
      "source": [
        "!python train.py --img 128 --batch 16 --epochs 100 --data /content/drive/MyDrive/dateset/data.yaml --weights yolov5m.pt --cache"
      ],
      "metadata": {
        "id": "EgyIx_Hxat3e",
        "collapsed": true
      },
      "execution_count": null,
      "outputs": []
    },
    {
      "cell_type": "code",
      "source": [
        "import os\n",
        "\n",
        "# Verifique o diretório principal onde os resultados de treinamento estão\n",
        "print(os.listdir('runs/train'))\n",
        "\n",
        "# Verifique o conteúdo do diretório do experimento (substitua 'exp' por 'exp1', 'exp2', etc. se necessário)\n",
        "print(os.listdir('runs/train/exp2'))\n",
        "\n",
        "# Verifique o conteúdo do diretório de pesos para encontrar o arquivo 'best.pt'\n",
        "print(os.listdir('runs/train/exp2/weights'))\n"
      ],
      "metadata": {
        "id": "7ze3uDV0cQ6p"
      },
      "execution_count": null,
      "outputs": []
    },
    {
      "cell_type": "code",
      "source": [
        "from IPython.display import Image\n",
        "Image(filename='runs/train/exp2/results.png', width=600)\n"
      ],
      "metadata": {
        "id": "DHebOPABcRj-"
      },
      "execution_count": null,
      "outputs": []
    },
    {
      "cell_type": "markdown",
      "source": [
        "Este comando realiza a **inferência** com o modelo treinado **best.pt** em uma imagem específica de **640x640 pixels**. A imagem de origem está no diretório especificado, e o modelo só detectará objetos com confiança maior que **0.4**."
      ],
      "metadata": {
        "id": "LLvZrNcFeJaW"
      }
    },
    {
      "cell_type": "code",
      "source": [
        "!python detect.py --weights runs/train/exp2/weights/best.pt --img 640 --source /content/drive/MyDrive/frames-teste/frames-teste/06-08-24_video1_imagem_termica_edit_26965.png --conf 0.4\n"
      ],
      "metadata": {
        "id": "AUYmRJ-NX40o"
      },
      "execution_count": null,
      "outputs": []
    }
  ]
}