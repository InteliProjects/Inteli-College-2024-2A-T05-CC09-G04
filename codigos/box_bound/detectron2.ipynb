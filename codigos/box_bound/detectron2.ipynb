{
  "nbformat": 4,
  "nbformat_minor": 0,
  "metadata": {
    "colab": {
      "provenance": [],
      "gpuType": "T4",
      "include_colab_link": true
    },
    "kernelspec": {
      "name": "python3",
      "display_name": "Python 3"
    },
    "language_info": {
      "name": "python"
    },
    "accelerator": "GPU"
  },
  "cells": [
    {
      "cell_type": "markdown",
      "metadata": {
        "id": "view-in-github",
        "colab_type": "text"
      },
      "source": [
        "<a href=\"https://colab.research.google.com/github/Inteli-College/2024-2A-T05-CC09-G04/blob/detectron2/detectron2.ipynb\" target=\"_parent\"><img src=\"https://colab.research.google.com/assets/colab-badge.svg\" alt=\"Open In Colab\"/></a>"
      ]
    },
    {
      "cell_type": "code",
      "execution_count": null,
      "metadata": {
        "colab": {
          "base_uri": "https://localhost:8080/"
        },
        "id": "CS-iiitwzCvw",
        "outputId": "162209cb-aff7-4fa4-fd56-00e541a100ee"
      },
      "outputs": [
        {
          "output_type": "stream",
          "name": "stdout",
          "text": [
            "Drive already mounted at /content/drive; to attempt to forcibly remount, call drive.mount(\"/content/drive\", force_remount=True).\n"
          ]
        }
      ],
      "source": [
        "from google.colab import drive\n",
        "drive.mount('/content/drive')"
      ]
    },
    {
      "cell_type": "markdown",
      "source": [
        "### O que é Detectron2?\n",
        "\n",
        "**Detectron2** é uma biblioteca de visão computacional desenvolvida pelo Facebook AI Research (FAIR). Ela oferece uma plataforma eficiente e flexível para realizar tarefas avançadas de visão, como:\n",
        "\n",
        "- **Detecção de Objetos**: Identificação de objetos em uma imagem por meio de bounding boxes (caixas delimitadoras).\n",
        "- **Segmentação de Instâncias**: Delimitação precisa dos objetos, fornecendo máscaras detalhadas.\n",
        "- **Segmentação Panóptica**: Combinação de detecção de objetos e segmentação semântica, permitindo classificar todos os pixels em uma imagem.\n",
        "\n",
        "Detectron2 é amplamente utilizado em tarefas de **machine learning** que envolvem análise de imagens e oferece suporte a modelos de última geração, como **Faster R-CNN**, **Mask R-CNN**, **RetinaNet**, entre outros. Ele também oferece uma maneira fácil de treinar, testar e ajustar modelos pré-treinados com a capacidade de lidar com diferentes formatos de datasets, como o **COCO**.\n",
        "\n",
        "Detectron2 se destaca por ser altamente otimizado para funcionar em GPUs, permitindo treinar e inferir modelos complexos de maneira eficiente.\n"
      ],
      "metadata": {
        "id": "SRcNs1aNcld3"
      }
    },
    {
      "cell_type": "code",
      "source": [
        "!python -m pip install pyyaml==5.1\n",
        "\n",
        "!pip install 'git+https://github.com/facebookresearch/detectron2.git'\n",
        "\n",
        "# Outras bibliotecas úteis\n",
        "!pip install opencv-python\n",
        "!pip install matplotlib"
      ],
      "metadata": {
        "id": "3M8hlSPXzFl4",
        "collapsed": true
      },
      "execution_count": null,
      "outputs": []
    },
    {
      "cell_type": "code",
      "source": [
        "from PIL import Image\n",
        "import os\n",
        "\n",
        "# Caminho para o diretório de imagens\n",
        "image_dir = '/content/drive/MyDrive/cattle_dataset'\n",
        "\n",
        "# Definir o tamanho esperado\n",
        "expected_size = (128, 128)\n",
        "\n",
        "# Extensões de arquivo de imagem comuns\n",
        "image_extensions = ['.png', '.jpg', '.jpeg']\n",
        "\n",
        "# Loop por todas as imagens no diretório\n",
        "for image_name in os.listdir(image_dir):\n",
        "    image_path = os.path.join(image_dir, image_name)\n",
        "\n",
        "    # Verifique se o arquivo é uma imagem com base na extensão\n",
        "    if os.path.splitext(image_name)[1].lower() in image_extensions:\n",
        "        try:\n",
        "            # Abra a imagem\n",
        "            with Image.open(image_path) as img:\n",
        "                if img.size != expected_size:\n",
        "                    print(f\"Redimensionando {image_name} de {img.size} para {expected_size}\")\n",
        "                    img = img.resize(expected_size)\n",
        "                    img.save(image_path)\n",
        "        except Exception as e:\n",
        "            print(f\"Erro ao abrir a imagem {image_name}: {e}\")\n",
        "    else:\n",
        "        print(f\"Arquivo ignorado (não é uma imagem): {image_name}\")\n",
        "\n",
        "print(\"Redimensionamento completo!\")\n"
      ],
      "metadata": {
        "id": "iSANZI9uS52o",
        "collapsed": true
      },
      "execution_count": null,
      "outputs": []
    },
    {
      "cell_type": "code",
      "source": [
        "import os\n",
        "import json\n",
        "\n",
        "# Caminho para os seus JSONs de train e test\n",
        "train_json_path = '/content/drive/MyDrive/cattle_dataset/train_coco.json'\n",
        "test_json_path = '/content/drive/MyDrive/cattle_dataset/test_coco.json'\n",
        "\n",
        "# Função para atualizar as dimensões no JSON\n",
        "def update_image_dimensions(json_path, correct_width, correct_height):\n",
        "    # Carregar o JSON existente\n",
        "    with open(json_path, 'r') as f:\n",
        "        coco_data = json.load(f)\n",
        "\n",
        "    # Atualizar as dimensões de cada imagem no JSON\n",
        "    for image_info in coco_data['images']:\n",
        "        # Corrigir as dimensões para todas as imagens\n",
        "        if image_info['width'] != correct_width or image_info['height'] != correct_height:\n",
        "            print(f\"Corrigindo tamanho para {image_info['file_name']}: de ({image_info['width']}, {image_info['height']}) para ({correct_width}, {correct_height})\")\n",
        "            image_info['width'] = correct_width\n",
        "            image_info['height'] = correct_height\n",
        "\n",
        "    # Salvar o arquivo JSON atualizado\n",
        "    updated_json_path = json_path.replace('.json', '_updated.json')\n",
        "    with open(updated_json_path, 'w') as f:\n",
        "        json.dump(coco_data, f)\n",
        "\n",
        "    print(f\"JSON atualizado salvo em {updated_json_path}\")\n",
        "\n",
        "# Definir as dimensões corretas (128x128)\n",
        "correct_width = 128\n",
        "correct_height = 128\n",
        "\n",
        "# Atualizar os JSONs de treinamento e teste\n",
        "update_image_dimensions(train_json_path, correct_width, correct_height)\n",
        "update_image_dimensions(test_json_path, correct_width, correct_height)\n",
        "\n",
        "print(\"Dimensões atualizadas para os arquivos JSON de train e test.\")\n"
      ],
      "metadata": {
        "id": "6zUXW4ZkXYZB",
        "collapsed": true
      },
      "execution_count": null,
      "outputs": []
    },
    {
      "cell_type": "code",
      "source": [
        "import torch, torchvision\n",
        "import detectron2\n",
        "from detectron2.utils.logger import setup_logger\n",
        "setup_logger()\n",
        "\n",
        "# import some common libraries\n",
        "import numpy as np\n",
        "import cv2\n",
        "import matplotlib.pyplot as plt\n",
        "\n",
        "\n",
        "# import some common detectron2 utilities\n",
        "from detectron2 import model_zoo\n",
        "from detectron2.engine import DefaultPredictor\n",
        "from detectron2.config import get_cfg\n",
        "from detectron2.utils.visualizer import Visualizer\n",
        "from detectron2.data import MetadataCatalog, DatasetCatalog"
      ],
      "metadata": {
        "id": "TmsSxqZGDLo_"
      },
      "execution_count": null,
      "outputs": []
    },
    {
      "cell_type": "code",
      "source": [
        "from detectron2.data.datasets import register_coco_instances\n",
        "from detectron2.data import MetadataCatalog, DatasetCatalog\n",
        "\n",
        "# Registrar os datasets de treino e teste\n",
        "train_json = '/content/drive/MyDrive/cattle_dataset/train_coco.json'\n",
        "test_json = '/content/drive/MyDrive/cattle_dataset/test_coco.json'\n",
        "image_dir = '/content/drive/MyDrive/cattle_dataset'\n",
        "\n",
        "# Registrar o dataset em formato COCO no Detectron2\n",
        "register_coco_instances(\"cattle_train\", {}, train_json, image_dir)\n",
        "register_coco_instances(\"cattle_test\", {}, test_json, image_dir)\n",
        "\n",
        "# Verificar se o dataset foi registrado corretamente\n",
        "metadata = MetadataCatalog.get(\"cattle_train\")\n",
        "dataset_dicts = DatasetCatalog.get(\"cattle_train\")\n",
        "\n",
        "print(\"Dataset registrado com sucesso!\")\n"
      ],
      "metadata": {
        "id": "GhH9r_MfEdQA",
        "collapsed": true
      },
      "execution_count": null,
      "outputs": []
    },
    {
      "cell_type": "markdown",
      "source": [
        "### Modelo Utilizado: Detection/faster_rcnn_R_50_FPN_3x.yaml\n",
        "\n",
        "O modelo que estamos utilizando, **Detection/faster_rcnn_R_50_FPN_3x.yaml**, vem do **Model Zoo** do Detectron2 e refere-se a uma configuração específica de um modelo de detecção de objetos:\n",
        "\n",
        "- **Faster R-CNN**: Este é um dos modelos mais populares para detecção de objetos. Ele usa uma abordagem de dois estágios:\n",
        "  1. **Proposta de Região**: O modelo primeiro identifica regiões de interesse na imagem que podem conter objetos.\n",
        "  2. **Classificação e Regressão de Bounding Box**: As regiões propostas são então refinadas, e o modelo prevê as classes dos objetos e ajusta as caixas delimitadoras.\n",
        "  \n",
        "- **R_50**: Refere-se ao backbone **ResNet-50**, que é uma arquitetura de rede neural convolucional usada para extrair características das imagens. ResNet-50 é uma versão mais leve e rápida comparada com backbones mais profundos (como ResNet-101), enquanto ainda mantém uma boa precisão.\n",
        "\n",
        "- **FPN**: A **Feature Pyramid Network** (FPN) é uma técnica usada para melhorar a detecção de objetos em diferentes escalas. O FPN ajuda a detectar tanto objetos pequenos quanto grandes, o que é crucial em cenários onde os tamanhos dos objetos podem variar significativamente.\n",
        "\n",
        "- **3x**: Indica que o modelo foi treinado por **3 vezes mais iterações** do que o padrão usado no dataset COCO. Isso significa que o modelo passou por mais etapas de ajuste dos seus pesos, melhorando a precisão e a robustez na detecção.\n",
        "\n",
        "Esse modelo é eficiente para detecção de objetos e oferece uma boa precisão, equilibrando o uso de recursos computacionais e a capacidade de detectar objetos em diferentes escalas e contextos."
      ],
      "metadata": {
        "id": "6bN395zJcu7C"
      }
    },
    {
      "cell_type": "code",
      "source": [
        "import detectron2\n",
        "from detectron2.engine import DefaultTrainer\n",
        "from detectron2.config import get_cfg\n",
        "from detectron2 import model_zoo\n",
        "import os\n",
        "# Configuração do modelo\n",
        "cfg = get_cfg()\n",
        "cfg.merge_from_file(model_zoo.get_config_file(\"COCO-Detection/faster_rcnn_R_50_FPN_3x.yaml\"))\n",
        "cfg.DATASETS.TRAIN = (\"cattle_train\",)\n",
        "cfg.DATASETS.TEST = (\"cattle_test\",)\n",
        "cfg.DATALOADER.NUM_WORKERS = 2\n",
        "cfg.MODEL.WEIGHTS = model_zoo.get_checkpoint_url(\"COCO-Detection/faster_rcnn_R_50_FPN_3x.yaml\")  # Pesos pré-treinados no COCO\n",
        "cfg.SOLVER.IMS_PER_BATCH = 2\n",
        "cfg.SOLVER.BASE_LR = 0.0001  # Taxa de aprendizado\n",
        "cfg.SOLVER.MAX_ITER = 1500    # Número de iterações de treinamento (ajuste conforme necessário)\n",
        "cfg.MODEL.ROI_HEADS.BATCH_SIZE_PER_IMAGE = 32   # Este é o batch size padrão\n",
        "cfg.MODEL.ROI_HEADS.NUM_CLASSES = 1  # Temos apenas uma classe (face do gado)\n",
        "\n",
        "# Salvar os pesos do modelo treinado\n",
        "cfg.OUTPUT_DIR = \"/content/drive/MyDrive/detectron2_output\"\n",
        "\n",
        "# Iniciar o treinamento\n",
        "os.makedirs(cfg.OUTPUT_DIR, exist_ok=True)\n",
        "trainer = DefaultTrainer(cfg)\n",
        "trainer.resume_or_load(resume=False)\n",
        "trainer.train()\n"
      ],
      "metadata": {
        "id": "gyfE7E07tWyH",
        "collapsed": true
      },
      "execution_count": null,
      "outputs": []
    },
    {
      "cell_type": "code",
      "source": [
        "from detectron2.engine import DefaultPredictor\n",
        "from detectron2.utils.visualizer import Visualizer\n",
        "import cv2\n",
        "from google.colab.patches import cv2_imshow  # Import para Colab\n",
        "\n",
        "# Configuração do predictor para fazer inferências\n",
        "cfg.MODEL.WEIGHTS = os.path.join(cfg.OUTPUT_DIR, \"model_final.pth\")  # Pesos finais do modelo treinado\n",
        "cfg.MODEL.ROI_HEADS.SCORE_THRESH_TEST = 0.7  # Definir um threshold\n",
        "predictor = DefaultPredictor(cfg)\n",
        "\n",
        "# Carregar uma nova imagem para testar\n",
        "image_path = \"/content/drive/MyDrive/framesfinal/boiteste.jpg\"\n",
        "im = cv2.imread(image_path)\n",
        "\n",
        "# Fazer inferência\n",
        "outputs = predictor(im)\n",
        "\n",
        "# Visualizar o resultado\n",
        "v = Visualizer(im[:, :, ::-1], metadata=MetadataCatalog.get(cfg.DATASETS.TRAIN[0]), scale=0.8)\n",
        "out = v.draw_instance_predictions(outputs[\"instances\"].to(\"cpu\"))\n",
        "cv2_imshow(out.get_image()[:, :, ::-1])\n"
      ],
      "metadata": {
        "id": "VgDr2v9TtX2r",
        "collapsed": true
      },
      "execution_count": null,
      "outputs": []
    }
  ]
}